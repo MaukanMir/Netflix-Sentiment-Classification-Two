{
 "cells": [
  {
   "cell_type": "markdown",
   "metadata": {},
   "source": [
    "# Netflix-Sentiment-Classification-Two"
   ]
  },
  {
   "cell_type": "markdown",
   "metadata": {},
   "source": [
    "# Imports"
   ]
  },
  {
   "cell_type": "code",
   "execution_count": 15,
   "metadata": {},
   "outputs": [],
   "source": [
    "import os\n",
    "\n",
    "import pandas as pd\n",
    "import numpy as np\n",
    "import re\n",
    "import seaborn as sns\n",
    "import matplotlib.pyplot as plt\n",
    "\n",
    "\n",
    "from nltk.tokenize import word_tokenize\n",
    "from sklearn.feature_extraction.text import ENGLISH_STOP_WORDS, TfidfVectorizer\n",
    "from sklearn.preprocessing import LabelEncoder, StandardScaler, PowerTransformer"
   ]
  },
  {
   "cell_type": "markdown",
   "metadata": {},
   "source": [
    "# Functions"
   ]
  },
  {
   "cell_type": "code",
   "execution_count": 11,
   "metadata": {},
   "outputs": [],
   "source": [
    "def check_for_nulls_dupes(df):\n",
    "  print(f\"The amount of NaN values: {df.isna().sum()}\")\n",
    "  print(f\"The amount of Duplicated values: {df.duplicated().sum()}\")\n",
    "\n",
    "def check_class_imbalance(target):\n",
    "  \n",
    "  unique, counts = np.unique(target, return_counts=True)\n",
    "  plt.figure(figsize=(10, 7))\n",
    "  plt.pie(counts, labels=unique, autopct=\"%1.1f%%\", startangle=140)\n",
    "  plt.title(\"Target Class Breakdown\")\n",
    "  plt.show()\n",
    "  \n",
    "  plt.figure(figsize=(10, 7))\n",
    "  sns.countplot(x=target)\n",
    "  plt.title(\"Target Class Breakdown\")\n",
    "  plt.xlabel(\"Target Class\")\n",
    "  plt.ylabel(\"Counts\")\n",
    "  plt.xticks(rotation=45)\n",
    "  plt.show()\n",
    "  \n",
    "def remove_stop_words(content):\n",
    "  word_tokens = \" \".join(word_tokenize(content))\n",
    "  \n",
    "  filtered_word_tokens = re.sub(f\"[^a-zA-z\\s]\", \"\", word_tokens).split(\" \")\n",
    "  filtered_sentence = [w.lower().strip() for w in filtered_word_tokens if not w.lower() in ENGLISH_STOP_WORDS]\n",
    "  return \" \".join(filtered_sentence).strip()"
   ]
  },
  {
   "cell_type": "markdown",
   "metadata": {},
   "source": [
    "# EDA Analysis"
   ]
  },
  {
   "cell_type": "code",
   "execution_count": 2,
   "metadata": {},
   "outputs": [
    {
     "data": {
      "text/html": [
       "<div>\n",
       "<style scoped>\n",
       "    .dataframe tbody tr th:only-of-type {\n",
       "        vertical-align: middle;\n",
       "    }\n",
       "\n",
       "    .dataframe tbody tr th {\n",
       "        vertical-align: top;\n",
       "    }\n",
       "\n",
       "    .dataframe thead th {\n",
       "        text-align: right;\n",
       "    }\n",
       "</style>\n",
       "<table border=\"1\" class=\"dataframe\">\n",
       "  <thead>\n",
       "    <tr style=\"text-align: right;\">\n",
       "      <th></th>\n",
       "      <th>reviewId</th>\n",
       "      <th>userName</th>\n",
       "      <th>content</th>\n",
       "      <th>score</th>\n",
       "      <th>thumbsUpCount</th>\n",
       "      <th>reviewCreatedVersion</th>\n",
       "      <th>at</th>\n",
       "      <th>appVersion</th>\n",
       "    </tr>\n",
       "  </thead>\n",
       "  <tbody>\n",
       "    <tr>\n",
       "      <th>0</th>\n",
       "      <td>1772b40f-8cfd-4c56-a370-c944e5b5ce48</td>\n",
       "      <td>Gato Reviews</td>\n",
       "      <td>Utter trash. Been a customer for over 10 years...</td>\n",
       "      <td>1</td>\n",
       "      <td>0</td>\n",
       "      <td>8.114.0 build 19 50680</td>\n",
       "      <td>2024-05-23 22:35:45</td>\n",
       "      <td>8.114.0 build 19 50680</td>\n",
       "    </tr>\n",
       "    <tr>\n",
       "      <th>1</th>\n",
       "      <td>b6b64d5c-30f6-4bed-8d66-9b4582e72e3b</td>\n",
       "      <td>Quincy Alleyne</td>\n",
       "      <td>Good</td>\n",
       "      <td>5</td>\n",
       "      <td>0</td>\n",
       "      <td>8.115.2 build 6 50688</td>\n",
       "      <td>2024-05-23 22:34:47</td>\n",
       "      <td>8.115.2 build 6 50688</td>\n",
       "    </tr>\n",
       "    <tr>\n",
       "      <th>2</th>\n",
       "      <td>8be7d06b-f90e-4ca7-abf6-f908b40946e2</td>\n",
       "      <td>nez zuber</td>\n",
       "      <td>The only streaming service that beats Netflix ...</td>\n",
       "      <td>2</td>\n",
       "      <td>0</td>\n",
       "      <td>NaN</td>\n",
       "      <td>2024-05-23 22:33:52</td>\n",
       "      <td>NaN</td>\n",
       "    </tr>\n",
       "    <tr>\n",
       "      <th>3</th>\n",
       "      <td>72485684-9e73-4dca-a580-0a92b3a3a7e6</td>\n",
       "      <td>Elon Frett</td>\n",
       "      <td>Everything that's objectively good gets remove...</td>\n",
       "      <td>1</td>\n",
       "      <td>0</td>\n",
       "      <td>8.109.0 build 7 50647</td>\n",
       "      <td>2024-05-23 22:30:43</td>\n",
       "      <td>8.109.0 build 7 50647</td>\n",
       "    </tr>\n",
       "    <tr>\n",
       "      <th>4</th>\n",
       "      <td>348796c3-0056-4491-80f7-d6c38fcb2790</td>\n",
       "      <td>kwakhanya bambeni</td>\n",
       "      <td>Wish the owner be a trillioner because he/she ...</td>\n",
       "      <td>4</td>\n",
       "      <td>0</td>\n",
       "      <td>NaN</td>\n",
       "      <td>2024-05-23 22:30:27</td>\n",
       "      <td>NaN</td>\n",
       "    </tr>\n",
       "    <tr>\n",
       "      <th>...</th>\n",
       "      <td>...</td>\n",
       "      <td>...</td>\n",
       "      <td>...</td>\n",
       "      <td>...</td>\n",
       "      <td>...</td>\n",
       "      <td>...</td>\n",
       "      <td>...</td>\n",
       "      <td>...</td>\n",
       "    </tr>\n",
       "    <tr>\n",
       "      <th>9995</th>\n",
       "      <td>260fc52a-ec27-468e-8029-7029391e2dcc</td>\n",
       "      <td>hafiz ejaz</td>\n",
       "      <td>I have used the previous version of the Netfli...</td>\n",
       "      <td>3</td>\n",
       "      <td>836</td>\n",
       "      <td>8.52.2 build 14 50335</td>\n",
       "      <td>2022-12-17 04:34:27</td>\n",
       "      <td>8.52.2 build 14 50335</td>\n",
       "    </tr>\n",
       "    <tr>\n",
       "      <th>9996</th>\n",
       "      <td>2ef0eca9-14bf-42f4-b2bb-3836e3ce29eb</td>\n",
       "      <td>Nikolas Mitchell</td>\n",
       "      <td>I'm disappointed by this recent \"update\" it ma...</td>\n",
       "      <td>1</td>\n",
       "      <td>2</td>\n",
       "      <td>NaN</td>\n",
       "      <td>2023-05-10 11:29:41</td>\n",
       "      <td>NaN</td>\n",
       "    </tr>\n",
       "    <tr>\n",
       "      <th>9997</th>\n",
       "      <td>ed5e9c73-0448-4603-a551-8eef04b9730f</td>\n",
       "      <td>William Pearson</td>\n",
       "      <td>A great way to watch some shows and movies! An...</td>\n",
       "      <td>4</td>\n",
       "      <td>274</td>\n",
       "      <td>7.84.1 build 28 35243</td>\n",
       "      <td>2020-12-28 20:03:15</td>\n",
       "      <td>7.84.1 build 28 35243</td>\n",
       "    </tr>\n",
       "    <tr>\n",
       "      <th>9998</th>\n",
       "      <td>47441c89-bab5-42b3-b249-a7ce0b43598a</td>\n",
       "      <td>Sorsa</td>\n",
       "      <td>I have limited space on the internal storage o...</td>\n",
       "      <td>2</td>\n",
       "      <td>16</td>\n",
       "      <td>8.30.3 build 14 50239</td>\n",
       "      <td>2023-08-23 15:51:10</td>\n",
       "      <td>8.30.3 build 14 50239</td>\n",
       "    </tr>\n",
       "    <tr>\n",
       "      <th>9999</th>\n",
       "      <td>2eebfd02-df43-4ce9-8071-38bea07b670e</td>\n",
       "      <td>A Google user</td>\n",
       "      <td>Netflix is at the apex of the streaming game. ...</td>\n",
       "      <td>5</td>\n",
       "      <td>35</td>\n",
       "      <td>7.24.2 build 39 34469</td>\n",
       "      <td>2019-09-16 23:08:46</td>\n",
       "      <td>7.24.2 build 39 34469</td>\n",
       "    </tr>\n",
       "  </tbody>\n",
       "</table>\n",
       "<p>10000 rows × 8 columns</p>\n",
       "</div>"
      ],
      "text/plain": [
       "                                  reviewId           userName  \\\n",
       "0     1772b40f-8cfd-4c56-a370-c944e5b5ce48       Gato Reviews   \n",
       "1     b6b64d5c-30f6-4bed-8d66-9b4582e72e3b     Quincy Alleyne   \n",
       "2     8be7d06b-f90e-4ca7-abf6-f908b40946e2          nez zuber   \n",
       "3     72485684-9e73-4dca-a580-0a92b3a3a7e6         Elon Frett   \n",
       "4     348796c3-0056-4491-80f7-d6c38fcb2790  kwakhanya bambeni   \n",
       "...                                    ...                ...   \n",
       "9995  260fc52a-ec27-468e-8029-7029391e2dcc         hafiz ejaz   \n",
       "9996  2ef0eca9-14bf-42f4-b2bb-3836e3ce29eb   Nikolas Mitchell   \n",
       "9997  ed5e9c73-0448-4603-a551-8eef04b9730f    William Pearson   \n",
       "9998  47441c89-bab5-42b3-b249-a7ce0b43598a              Sorsa   \n",
       "9999  2eebfd02-df43-4ce9-8071-38bea07b670e      A Google user   \n",
       "\n",
       "                                                content  score  thumbsUpCount  \\\n",
       "0     Utter trash. Been a customer for over 10 years...      1              0   \n",
       "1                                                  Good      5              0   \n",
       "2     The only streaming service that beats Netflix ...      2              0   \n",
       "3     Everything that's objectively good gets remove...      1              0   \n",
       "4     Wish the owner be a trillioner because he/she ...      4              0   \n",
       "...                                                 ...    ...            ...   \n",
       "9995  I have used the previous version of the Netfli...      3            836   \n",
       "9996  I'm disappointed by this recent \"update\" it ma...      1              2   \n",
       "9997  A great way to watch some shows and movies! An...      4            274   \n",
       "9998  I have limited space on the internal storage o...      2             16   \n",
       "9999  Netflix is at the apex of the streaming game. ...      5             35   \n",
       "\n",
       "        reviewCreatedVersion                   at              appVersion  \n",
       "0     8.114.0 build 19 50680  2024-05-23 22:35:45  8.114.0 build 19 50680  \n",
       "1      8.115.2 build 6 50688  2024-05-23 22:34:47   8.115.2 build 6 50688  \n",
       "2                        NaN  2024-05-23 22:33:52                     NaN  \n",
       "3      8.109.0 build 7 50647  2024-05-23 22:30:43   8.109.0 build 7 50647  \n",
       "4                        NaN  2024-05-23 22:30:27                     NaN  \n",
       "...                      ...                  ...                     ...  \n",
       "9995   8.52.2 build 14 50335  2022-12-17 04:34:27   8.52.2 build 14 50335  \n",
       "9996                     NaN  2023-05-10 11:29:41                     NaN  \n",
       "9997   7.84.1 build 28 35243  2020-12-28 20:03:15   7.84.1 build 28 35243  \n",
       "9998   8.30.3 build 14 50239  2023-08-23 15:51:10   8.30.3 build 14 50239  \n",
       "9999   7.24.2 build 39 34469  2019-09-16 23:08:46   7.24.2 build 39 34469  \n",
       "\n",
       "[10000 rows x 8 columns]"
      ]
     },
     "execution_count": 2,
     "metadata": {},
     "output_type": "execute_result"
    }
   ],
   "source": [
    "df = pd.read_csv(\"/Users/maukanmir/Downloads/netflix_reviews.csv\",nrows=10000)\n",
    "df"
   ]
  },
  {
   "cell_type": "markdown",
   "metadata": {},
   "source": [
    "# Check for Nulls and Dupes"
   ]
  },
  {
   "cell_type": "code",
   "execution_count": 4,
   "metadata": {},
   "outputs": [
    {
     "name": "stdout",
     "output_type": "stream",
     "text": [
      "The amount of NaN values: reviewId                  0\n",
      "userName                  0\n",
      "content                   2\n",
      "score                     0\n",
      "thumbsUpCount             0\n",
      "reviewCreatedVersion    971\n",
      "at                        0\n",
      "appVersion              971\n",
      "dtype: int64\n",
      "The amount of Duplicated values: 287\n"
     ]
    }
   ],
   "source": [
    "check_for_nulls_dupes(df)"
   ]
  },
  {
   "cell_type": "code",
   "execution_count": 5,
   "metadata": {},
   "outputs": [],
   "source": [
    "df.dropna(inplace=True)"
   ]
  },
  {
   "cell_type": "code",
   "execution_count": 6,
   "metadata": {},
   "outputs": [],
   "source": [
    "df.drop_duplicates(inplace=True)"
   ]
  },
  {
   "cell_type": "code",
   "execution_count": 7,
   "metadata": {},
   "outputs": [
    {
     "data": {
      "text/plain": [
       "(8802, 8)"
      ]
     },
     "execution_count": 7,
     "metadata": {},
     "output_type": "execute_result"
    }
   ],
   "source": [
    "df.shape"
   ]
  },
  {
   "cell_type": "markdown",
   "metadata": {},
   "source": [
    "# Check for Class Imabalance"
   ]
  },
  {
   "cell_type": "code",
   "execution_count": 8,
   "metadata": {},
   "outputs": [
    {
     "data": {
      "image/png": "[encoded data removed]",
      "text/plain": [
       "<Figure size 1000x700 with 1 Axes>"
      ]
     },
     "metadata": {},
     "output_type": "display_data"
    },
    {
     "data": {
      "image/png": "[encoded data removed]",
      "text/plain": [
       "<Figure size 1000x700 with 1 Axes>"
      ]
     },
     "metadata": {},
     "output_type": "display_data"
    }
   ],
   "source": [
    "check_class_imbalance(df[\"score\"])"
   ]
  },
  {
   "cell_type": "markdown",
   "metadata": {},
   "source": [
    "# Skewed Dataset"
   ]
  },
  {
   "cell_type": "markdown",
   "metadata": {},
   "source": [
    "# Drop Columns we do not need"
   ]
  },
  {
   "cell_type": "code",
   "execution_count": 9,
   "metadata": {},
   "outputs": [],
   "source": [
    "df.drop([\"reviewId\", \"userName\", \"reviewCreatedVersion\", \"appVersion\"],axis=1, inplace=True)"
   ]
  },
  {
   "cell_type": "markdown",
   "metadata": {},
   "source": [
    "# Data Preprocessing"
   ]
  },
  {
   "cell_type": "code",
   "execution_count": 12,
   "metadata": {},
   "outputs": [],
   "source": [
    "\n",
    "df[\"content\"] = df[\"content\"].apply(lambda x: remove_stop_words(x))\n",
    "df[\"score\"] = df[\"score\"].apply(lambda x: \"postive\" if x>=4 else \"neg\" if x<3 else \"neu\")\n",
    "df[\"at\"] = pd.to_datetime(df[\"at\"])\n",
    "\n",
    "df[\"day\"] = df[\"at\"].dt.day\n",
    "df[\"month\"] = df[\"at\"].dt.month\n",
    "df[\"year\"] = df[\"at\"].dt.year\n",
    "df[\"hour\"] = df[\"at\"].dt.hour\n",
    "\n",
    "df.drop(\"at\", axis=1, inplace=True)"
   ]
  },
  {
   "cell_type": "markdown",
   "metadata": {},
   "source": [
    "# Separate Feature Variables"
   ]
  },
  {
   "cell_type": "code",
   "execution_count": 13,
   "metadata": {},
   "outputs": [],
   "source": [
    "X, y = df.drop(\"score\", axis=1), df[\"score\"]"
   ]
  },
  {
   "cell_type": "code",
   "execution_count": null,
   "metadata": {},
   "outputs": [],
   "source": []
  }
 ],
 "metadata": {
  "kernelspec": {
   "display_name": "machine-learning-env",
   "language": "python",
   "name": "python3"
  },
  "language_info": {
   "codemirror_mode": {
    "name": "ipython",
    "version": 3
   },
   "file_extension": ".py",
   "mimetype": "text/x-python",
   "name": "python",
   "nbconvert_exporter": "python",
   "pygments_lexer": "ipython3",
   "version": "3.9.19"
  }
 },
 "nbformat": 4,
 "nbformat_minor": 2
}
